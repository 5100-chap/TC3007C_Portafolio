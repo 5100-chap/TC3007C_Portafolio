{
 "cells": [
  {
   "cell_type": "code",
   "execution_count": 1,
   "metadata": {},
   "outputs": [
    {
     "name": "stderr",
     "output_type": "stream",
     "text": [
      "Setting default log level to \"WARN\".\n",
      "To adjust logging level use sc.setLogLevel(newLevel). For SparkR, use setLogLevel(newLevel).\n",
      "23/11/25 20:19:53 WARN NativeCodeLoader: Unable to load native-hadoop library for your platform... using builtin-java classes where applicable\n"
     ]
    }
   ],
   "source": [
    "from pyspark import SparkContext\n",
    "from pyspark.sql.types import StructField, StructType, StringType, IntegerType\n",
    "from pyspark.sql import SparkSession\n",
    "from pyspark.sql.functions import countDistinct, avg, stddev, format_number\n",
    "\n",
    "sc = SparkContext()"
   ]
  },
  {
   "cell_type": "code",
   "execution_count": 2,
   "metadata": {},
   "outputs": [
    {
     "name": "stdout",
     "output_type": "stream",
     "text": [
      "The PySpark 3.5.0 version is running...\n"
     ]
    }
   ],
   "source": [
    "import pyspark\n",
    "from pyspark.sql import SparkSession\n",
    "\n",
    "# Create SparkSession\n",
    "spark = SparkSession.builder.master(\"local[*]\").appName(\"BigData-ETL.com\").getOrCreate()\n",
    "print(f\"The PySpark {spark.version} version is running...\")"
   ]
  },
  {
   "cell_type": "code",
   "execution_count": 3,
   "metadata": {},
   "outputs": [
    {
     "name": "stdout",
     "output_type": "stream",
     "text": [
      "Spark ya esta instalado :D (A01275100)\n"
     ]
    }
   ],
   "source": [
    "print(\"Spark ya esta instalado :D (A01275100)\")"
   ]
  },
  {
   "cell_type": "code",
   "execution_count": 4,
   "metadata": {},
   "outputs": [
    {
     "name": "stderr",
     "output_type": "stream",
     "text": [
      "23/11/25 20:19:59 WARN SparkSession: Using an existing Spark session; only runtime SQL configurations will take effect.\n"
     ]
    }
   ],
   "source": [
    "spark = SparkSession.builder.appName('DataFrame').getOrCreate()"
   ]
  },
  {
   "cell_type": "code",
   "execution_count": 5,
   "metadata": {},
   "outputs": [
    {
     "name": "stderr",
     "output_type": "stream",
     "text": [
      "                                                                                \r"
     ]
    }
   ],
   "source": [
    "df = spark.read.csv('ventas.csv', inferSchema = True, header = True)"
   ]
  },
  {
   "cell_type": "code",
   "execution_count": 6,
   "metadata": {},
   "outputs": [
    {
     "name": "stdout",
     "output_type": "stream",
     "text": [
      "+-------+-------+------+\n",
      "|Empresa|Persona|Ventas|\n",
      "+-------+-------+------+\n",
      "|   GOOG| Carlos|   200|\n",
      "|   GOOG|   Juan|   120|\n",
      "|   GOOG| Felipe|   340|\n",
      "|   MSFT|   Tina|   600|\n",
      "|   MSFT| Andrea|   124|\n",
      "|   MSFT|  Carla|   243|\n",
      "|     FB|   Sara|   870|\n",
      "|     FB|Ignacio|   350|\n",
      "|   APPL| Miguel|   250|\n",
      "|   APPL|  Oscar|   130|\n",
      "|   APPL|  Jorge|   750|\n",
      "|   APPL|   Ivan|   350|\n",
      "+-------+-------+------+\n",
      "\n"
     ]
    }
   ],
   "source": [
    "df.show()"
   ]
  },
  {
   "cell_type": "code",
   "execution_count": 7,
   "metadata": {},
   "outputs": [
    {
     "name": "stderr",
     "output_type": "stream",
     "text": [
      "[Stage 3:>                                                          (0 + 1) / 1]\r"
     ]
    },
    {
     "name": "stdout",
     "output_type": "stream",
     "text": [
      "+-------+-----------+\n",
      "|Empresa|sum(Ventas)|\n",
      "+-------+-----------+\n",
      "|   APPL|       1480|\n",
      "|   GOOG|        660|\n",
      "|     FB|       1220|\n",
      "|   MSFT|        967|\n",
      "+-------+-----------+\n",
      "\n"
     ]
    },
    {
     "name": "stderr",
     "output_type": "stream",
     "text": [
      "                                                                                \r"
     ]
    }
   ],
   "source": [
    "df.groupBy('Empresa').sum().show()"
   ]
  },
  {
   "cell_type": "code",
   "execution_count": 8,
   "metadata": {},
   "outputs": [
    {
     "name": "stdout",
     "output_type": "stream",
     "text": [
      "+-----------+\n",
      "|max(Ventas)|\n",
      "+-----------+\n",
      "|        870|\n",
      "+-----------+\n",
      "\n"
     ]
    }
   ],
   "source": [
    "df.agg({'Ventas': 'max'}).show()"
   ]
  },
  {
   "cell_type": "code",
   "execution_count": 9,
   "metadata": {},
   "outputs": [
    {
     "name": "stdout",
     "output_type": "stream",
     "text": [
      "+-------+-----------+\n",
      "|Empresa|max(Ventas)|\n",
      "+-------+-----------+\n",
      "|   APPL|        750|\n",
      "|   GOOG|        340|\n",
      "|     FB|        870|\n",
      "|   MSFT|        600|\n",
      "+-------+-----------+\n",
      "\n"
     ]
    }
   ],
   "source": [
    "agrupado = df.groupBy('Empresa')\n",
    "agrupado.agg({'Ventas': 'max'}).show()"
   ]
  },
  {
   "cell_type": "code",
   "execution_count": 10,
   "metadata": {},
   "outputs": [
    {
     "name": "stdout",
     "output_type": "stream",
     "text": [
      "+-------+-----------+\n",
      "|Empresa|min(Ventas)|\n",
      "+-------+-----------+\n",
      "|   APPL|        130|\n",
      "|   GOOG|        120|\n",
      "|     FB|        350|\n",
      "|   MSFT|        124|\n",
      "+-------+-----------+\n",
      "\n"
     ]
    }
   ],
   "source": [
    "agrupado.agg({'Ventas': 'min'}).show()"
   ]
  },
  {
   "cell_type": "code",
   "execution_count": 11,
   "metadata": {},
   "outputs": [],
   "source": [
    "df_agrupado = agrupado.agg({'Ventas': 'max'})\n",
    "df_agrupado_pandas = df_agrupado.toPandas()"
   ]
  },
  {
   "cell_type": "code",
   "execution_count": 15,
   "metadata": {},
   "outputs": [
    {
     "data": {
      "image/png": "[encoded data removed]",
      "text/plain": [
       "<Figure size 1000x600 with 1 Axes>"
      ]
     },
     "metadata": {},
     "output_type": "display_data"
    }
   ],
   "source": [
    "df_agrupado_pandas = df_agrupado_pandas.sort_values('max(Ventas)', ascending=False)\n",
    "import matplotlib.pyplot as plt\n",
    "\n",
    "plt.figure(figsize=(10,6))\n",
    "plt.bar(df_agrupado_pandas['Empresa'], df_agrupado_pandas['max(Ventas)'])\n",
    "plt.xlabel('Empresa')\n",
    "plt.ylabel('Máximo de Ventas')\n",
    "plt.title('Máximo de Ventas por Empresa')\n",
    "plt.xticks(rotation=45)  # Rotar las etiquetas si son muchas o largas\n",
    "plt.show()\n"
   ]
  },
  {
   "cell_type": "code",
   "execution_count": null,
   "metadata": {},
   "outputs": [],
   "source": []
  }
 ],
 "metadata": {
  "kernelspec": {
   "display_name": "Python 3 (ipykernel)",
   "language": "python",
   "name": "python3"
  },
  "language_info": {
   "codemirror_mode": {
    "name": "ipython",
    "version": 3
   },
   "file_extension": ".py",
   "mimetype": "text/x-python",
   "name": "python",
   "nbconvert_exporter": "python",
   "pygments_lexer": "ipython3",
   "version": "3.11.4"
  }
 },
 "nbformat": 4,
 "nbformat_minor": 2
}
